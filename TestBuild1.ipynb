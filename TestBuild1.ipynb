{
  "cells": [
    {
      "cell_type": "markdown",
      "metadata": {
        "id": "8fEXdaB-Hu0n"
      },
      "source": [
        "# Imports"
      ]
    },
    {
      "cell_type": "code",
      "execution_count": 10,
      "metadata": {
        "id": "Xhv30Ed3HtHo"
      },
      "outputs": [],
      "source": [
        "import pandas as pd\n",
        "import numpy as np\n",
        "import csv\n",
        "import random"
      ]
    },
    {
      "cell_type": "markdown",
      "metadata": {
        "id": "jKnQi3wPHuaO"
      },
      "source": [
        "# Classes"
      ]
    },
    {
      "cell_type": "code",
      "execution_count": 11,
      "metadata": {
        "id": "VCC9399gGpTV"
      },
      "outputs": [],
      "source": [
        "# Create your dictionary class\n",
        "class keyValuePairs(dict):\n",
        "\n",
        "    # __init__ function\n",
        "    def __init__(self):\n",
        "        self = dict()\n",
        "\n",
        "    # Function to add key:value\n",
        "    def add(self, key, value):\n",
        "        self[key] = str(value)"
      ]
    },
    {
      "cell_type": "markdown",
      "metadata": {
        "id": "OBn8dXF7HuBp"
      },
      "source": [
        "Writing to File"
      ]
    },
    {
      "cell_type": "code",
      "execution_count": 12,
      "metadata": {
        "id": "GUYxqUHUHKLQ"
      },
      "outputs": [],
      "source": [
        "# with open('mycsvfile.csv','w') as f:\n",
        "#     w = csv.writer(f)\n",
        "#     w.writerows(somedict.keys())\n",
        "#     w.writerows(somedict.values())"
      ]
    },
    {
      "cell_type": "markdown",
      "metadata": {
        "id": "d3-6RGA5N0sX"
      },
      "source": [
        "# Simple Test: Singular input & branch"
      ]
    },
    {
      "cell_type": "code",
      "execution_count": 13,
      "metadata": {
        "id": "eCKmXX24k3Bl"
      },
      "outputs": [],
      "source": [
        "def simpleProgram():\n",
        "  dict_obj = keyValuePairs()\n",
        "  i = 0\n",
        "  num_samples = 10000\n",
        "  while i < num_samples:\n",
        "    dict_obj.key = i\n",
        "    val = random.randint(0,1000)\n",
        "    if (val > 500):\n",
        "      dict_obj.value = 1\n",
        "      dict_obj.add(dict_obj.key, dict_obj.value)\n",
        "      i += 1\n",
        "    else:\n",
        "      dict_obj.value = 0\n",
        "      dict_obj.add(dict_obj.key, dict_obj.value)\n",
        "      i += 1\n",
        "\n",
        "  for key in dict_obj:\n",
        "    print(key, \":\", dict_obj[key])\n",
        "\n",
        "  with open('test_case1.csv','w') as f:\n",
        "    w = csv.writer(f)\n",
        "    w.writerows(dict_obj.keys())\n",
        "    w.writerows(dict_obj.values())"
      ]
    },
    {
      "cell_type": "markdown",
      "metadata": {
        "id": "Ir3j61XqN7-w"
      },
      "source": [
        "# Simple Test: Singular input & two branches"
      ]
    },
    {
      "cell_type": "code",
      "execution_count": 14,
      "metadata": {
        "id": "DEMN1-Rw6C1f"
      },
      "outputs": [],
      "source": [
        "def simpleProgram1():\n",
        "  dict_obj = keyValuePairs()\n",
        "  i = 0\n",
        "  num_samples = 1000\n",
        "  while i < num_samples:\n",
        "    dict_obj.key = i\n",
        "    if (i < 500):\n",
        "      dict_obj.value = \"1\"\n",
        "      dict_obj.add(dict_obj.key, dict_obj.value)\n",
        "      if (i > 0 & i < 250):\n",
        "        dict_obj.value += \"1\"\n",
        "        dict_obj.value += \"/\"\n",
        "        dict_obj.add(dict_obj.key, dict_obj.value)\n",
        "        i+=1\n",
        "      else:\n",
        "        dict_obj.value += \"0\"\n",
        "        dict_obj.value += \"/\"\n",
        "        dict_obj.add(dict_obj.key, dict_obj.value)\n",
        "        i+=1\n",
        "\n",
        "    else:\n",
        "      dict_obj.value = \"0\"\n",
        "      dict_obj.value += \"/\"\n",
        "      dict_obj.add(dict_obj.key, dict_obj.value)\n",
        "      i += 1\n",
        "\n",
        "  for key in dict_obj:\n",
        "    print(key, \":\", dict_obj[key])"
      ]
    },
    {
      "cell_type": "markdown",
      "metadata": {
        "id": "p8XSThZ2Oewc"
      },
      "source": [
        "# Simple Test: Singular input & nested branches"
      ]
    },
    {
      "cell_type": "code",
      "execution_count": 15,
      "metadata": {
        "id": "vlaChA7QxOjP"
      },
      "outputs": [],
      "source": [
        "def simpleProgram2():\n",
        "  dict_obj = keyValuePairs()\n",
        "  i = 0\n",
        "  num_samples = 1000\n",
        "  while i < num_samples:\n",
        "    dict_obj.key = i\n",
        "    if (i < 750):\n",
        "      dict_obj.value = \"1\"\n",
        "      if (i == 0):\n",
        "        dict_obj.value += \"1\"\n",
        "        dict_obj.value += \"/\"\n",
        "        dict_obj.add(dict_obj.key, dict_obj.value)\n",
        "      if (i > 0 & i < 600):\n",
        "        dict_obj.value += \"1\"\n",
        "        if (i < 400):\n",
        "          dict_obj.value += \"1\"\n",
        "          if (i > 50 and i < 299):\n",
        "            dict_obj.value += \"1\"\n",
        "            dict_obj.value += \"/\"\n",
        "          else:\n",
        "            dict_obj.value += \"0\"\n",
        "            dict_obj.value += \"/\"\n",
        "        else:\n",
        "            dict_obj.value += \"0\"\n",
        "            dict_obj.value += \"/\"\n",
        "        dict_obj.add(dict_obj.key, dict_obj.value)\n",
        "\n",
        "      else:\n",
        "        dict_obj.value += \"0\"\n",
        "        dict_obj.value += \"/\"\n",
        "        dict_obj.add(dict_obj.key, dict_obj.value)\n",
        "\n",
        "      i+=1\n",
        "\n",
        "    else:\n",
        "      dict_obj.value = \"0\"\n",
        "      dict_obj.value += \"/\"\n",
        "      dict_obj.add(dict_obj.key, dict_obj.value)\n",
        "      i += 1\n",
        "\n",
        "  for key in dict_obj:\n",
        "    print(key, \":\", dict_obj[key])"
      ]
    },
    {
      "cell_type": "markdown",
      "metadata": {
        "id": "B1jZBKFdF6eY"
      },
      "source": [
        "# Simple Programs: while loops"
      ]
    },
    {
      "cell_type": "code",
      "execution_count": 16,
      "metadata": {
        "id": "uHKP8PlKIqaf"
      },
      "outputs": [],
      "source": [
        "def simpleProgram3():\n",
        "  dict_obj = keyValuePairs()\n",
        "  i = 0\n",
        "  num_samples = 10\n",
        "  while i < num_samples:\n",
        "    dict_obj.key = i #sample index\n",
        "    k = 0\n",
        "    while k < 50:  #change this while loop condition for more complex loop behaviors\n",
        "      if (k == 0) : #treat this branch as an initializer for the dictionary value\n",
        "          dict_obj.value = \"1\"\n",
        "          k += 1\n",
        "\n",
        "      dict_obj.value += \"1\" #keep count of branch taken/re-entering the while loop\n",
        "      k += 1\n",
        "\n",
        "    dict_obj.value += \"0\" #exit component\n",
        "    dict_obj.value += \"/\"\n",
        "    dict_obj.add(dict_obj.key, dict_obj.value)\n",
        "    i += 1  #increment to next sample\n",
        "\n",
        "  for key in dict_obj:\n",
        "    print(key, \":\", dict_obj[key])"
      ]
    },
    {
      "cell_type": "code",
      "execution_count": 17,
      "metadata": {
        "colab": {
          "base_uri": "https://localhost:8080/"
        },
        "id": "MIXjpG7czfAK",
        "outputId": "d30e0b50-d05a-4f4b-d25f-5242900f2339"
      },
      "outputs": [
        {
          "name": "stdout",
          "output_type": "stream",
          "text": [
            "0 : 111111111111111111111111111111111111111111111111110/\n",
            "1 : 111111111111111111111111111111111111111111111111110/\n",
            "2 : 111111111111111111111111111111111111111111111111110/\n",
            "3 : 111111111111111111111111111111111111111111111111110/\n",
            "4 : 111111111111111111111111111111111111111111111111110/\n",
            "5 : 111111111111111111111111111111111111111111111111110/\n",
            "6 : 111111111111111111111111111111111111111111111111110/\n",
            "7 : 111111111111111111111111111111111111111111111111110/\n",
            "8 : 111111111111111111111111111111111111111111111111110/\n",
            "9 : 111111111111111111111111111111111111111111111111110/\n"
          ]
        }
      ],
      "source": [
        "simpleProgram3()"
      ]
    },
    {
      "cell_type": "markdown",
      "metadata": {},
      "source": [
        "# Simple Programs: Nested Branches"
      ]
    },
    {
      "cell_type": "code",
      "execution_count": 18,
      "metadata": {},
      "outputs": [],
      "source": [
        "def simpleProgram4():\n",
        "  print(\"test\")\n",
        "  dict_obj = keyValuePairs()\n",
        "  i = 0\n",
        "  num_samples = 10\n",
        "  while i < num_samples:\n",
        "    dict_obj.key = i\n",
        "    value = random.randint(0,100)\n",
        "    if value > 50:\n",
        "      dict_obj.value = \"1\"\n",
        "      if value > 75:\n",
        "        dict_obj.value += \"1\"\n",
        "        if value > 90:\n",
        "            dict_obj.value += \"1\"\n",
        "        else:\n",
        "            dict_obj.value += \"0\"\n",
        "      else:\n",
        "        dict_obj.value += \"0\"\n",
        "        if value > 60:\n",
        "          dict_obj.value += \"1\"\n",
        "        else:\n",
        "            dict_obj.value += \"0\"\n",
        "    else:\n",
        "      dict_obj.value = \"0\"\n",
        "      if value > 25:\n",
        "        dict_obj.value += \"1\"\n",
        "        if value > 40:\n",
        "          dict_obj.value += \"1\"\n",
        "        else:\n",
        "            dict_obj.value += \"0\"\n",
        "      else:\n",
        "        dict_obj.value += \"0\"\n",
        "        if value > 10:\n",
        "          dict_obj.value += \"1\"\n",
        "        else:\n",
        "          dict_obj.value += \"0\"  \n",
        "    dict_obj.value += \"/\"\n",
        "    dict_obj.add(dict_obj.key, dict_obj.value)\n",
        "    i += 1  #increment to next sample\n",
        "\n",
        "  for key in dict_obj:\n",
        "    print(key, \":\", dict_obj[key])"
      ]
    }
  ],
  "metadata": {
    "colab": {
      "provenance": []
    },
    "kernelspec": {
      "display_name": "Python 3",
      "name": "python3"
    },
    "language_info": {
      "codemirror_mode": {
        "name": "ipython",
        "version": 3
      },
      "file_extension": ".py",
      "mimetype": "text/x-python",
      "name": "python",
      "nbconvert_exporter": "python",
      "pygments_lexer": "ipython3",
      "version": "3.11.0"
    }
  },
  "nbformat": 4,
  "nbformat_minor": 0
}
