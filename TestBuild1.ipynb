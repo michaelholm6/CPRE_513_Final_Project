{
  "nbformat": 4,
  "nbformat_minor": 0,
  "metadata": {
    "colab": {
      "provenance": []
    },
    "kernelspec": {
      "name": "python3",
      "display_name": "Python 3"
    },
    "language_info": {
      "name": "python"
    }
  },
  "cells": [
    {
      "cell_type": "markdown",
      "source": [
        "# Imports"
      ],
      "metadata": {
        "id": "8fEXdaB-Hu0n"
      }
    },
    {
      "cell_type": "code",
      "source": [
        "import pandas as pd\n",
        "import numpy as np\n",
        "import csv"
      ],
      "metadata": {
        "id": "Xhv30Ed3HtHo"
      },
      "execution_count": 2,
      "outputs": []
    },
    {
      "cell_type": "markdown",
      "source": [
        "# Classes"
      ],
      "metadata": {
        "id": "jKnQi3wPHuaO"
      }
    },
    {
      "cell_type": "code",
      "source": [
        "# Create your dictionary class\n",
        "class keyValuePairs(dict):\n",
        "\n",
        "    # __init__ function\n",
        "    def __init__(self):\n",
        "        self = dict()\n",
        "\n",
        "    # Function to add key:value\n",
        "    def add(self, key, value):\n",
        "        self[key] = str(value)"
      ],
      "metadata": {
        "id": "VCC9399gGpTV"
      },
      "execution_count": 3,
      "outputs": []
    },
    {
      "cell_type": "markdown",
      "source": [
        "Writing to File"
      ],
      "metadata": {
        "id": "OBn8dXF7HuBp"
      }
    },
    {
      "cell_type": "code",
      "source": [
        "# with open('mycsvfile.csv','w') as f:\n",
        "#     w = csv.writer(f)\n",
        "#     w.writerows(somedict.keys())\n",
        "#     w.writerows(somedict.values())"
      ],
      "metadata": {
        "id": "GUYxqUHUHKLQ"
      },
      "execution_count": null,
      "outputs": []
    },
    {
      "cell_type": "markdown",
      "source": [
        "# Simple Test: Singular input & branch"
      ],
      "metadata": {
        "id": "d3-6RGA5N0sX"
      }
    },
    {
      "cell_type": "code",
      "execution_count": null,
      "metadata": {
        "id": "eCKmXX24k3Bl"
      },
      "outputs": [],
      "source": [
        "def simpleProgram():\n",
        "  dict_obj = keyValuePairs()\n",
        "  i = 0\n",
        "  num_samples = 1000\n",
        "  while i < num_samples:\n",
        "    dict_obj.key = i\n",
        "    if (i > 500):\n",
        "      dict_obj.value = 1\n",
        "      dict_obj.add(dict_obj.key, dict_obj.value)\n",
        "      i += 1\n",
        "    else:\n",
        "      dict_obj.value = 0\n",
        "      dict_obj.add(dict_obj.key, dict_obj.value)\n",
        "      i += 1\n",
        "\n",
        "  for key in dict_obj:\n",
        "    print(key, \":\", dict_obj[key])"
      ]
    },
    {
      "cell_type": "markdown",
      "source": [
        "# Simple Test: Singular input & two branches"
      ],
      "metadata": {
        "id": "Ir3j61XqN7-w"
      }
    },
    {
      "cell_type": "code",
      "execution_count": null,
      "metadata": {
        "id": "DEMN1-Rw6C1f"
      },
      "outputs": [],
      "source": [
        "def simpleProgram1():\n",
        "  dict_obj = keyValuePairs()\n",
        "  i = 0\n",
        "  num_samples = 1000\n",
        "  while i < num_samples:\n",
        "    dict_obj.key = i\n",
        "    if (i < 500):\n",
        "      dict_obj.value = \"1\"\n",
        "      dict_obj.add(dict_obj.key, dict_obj.value)\n",
        "      if (i > 0 & i < 250):\n",
        "        dict_obj.value += \"1\"\n",
        "        dict_obj.value += \"/\"\n",
        "        dict_obj.add(dict_obj.key, dict_obj.value)\n",
        "        i+=1\n",
        "      else:\n",
        "        dict_obj.value += \"0\"\n",
        "        dict_obj.value += \"/\"\n",
        "        dict_obj.add(dict_obj.key, dict_obj.value)\n",
        "        i+=1\n",
        "\n",
        "    else:\n",
        "      dict_obj.value = \"0\"\n",
        "      dict_obj.value += \"/\"\n",
        "      dict_obj.add(dict_obj.key, dict_obj.value)\n",
        "      i += 1\n",
        "\n",
        "  for key in dict_obj:\n",
        "    print(key, \":\", dict_obj[key])"
      ]
    },
    {
      "cell_type": "markdown",
      "source": [
        "# Simple Test: Singular input & nested branches"
      ],
      "metadata": {
        "id": "p8XSThZ2Oewc"
      }
    },
    {
      "cell_type": "code",
      "source": [
        "def simpleProgram2():\n",
        "  dict_obj = keyValuePairs()\n",
        "  i = 0\n",
        "  num_samples = 1000\n",
        "  while i < num_samples:\n",
        "    dict_obj.key = i\n",
        "    if (i < 750):\n",
        "      dict_obj.value = \"1\"\n",
        "      if (i == 0):\n",
        "        dict_obj.value += \"1\"\n",
        "        dict_obj.value += \"/\"\n",
        "        dict_obj.add(dict_obj.key, dict_obj.value)\n",
        "      if (i > 0 & i < 600):\n",
        "        dict_obj.value += \"1\"\n",
        "        if (i < 400):\n",
        "          dict_obj.value += \"1\"\n",
        "          if (i > 50 and i < 299):\n",
        "            dict_obj.value += \"1\"\n",
        "            dict_obj.value += \"/\"\n",
        "          else:\n",
        "            dict_obj.value += \"0\"\n",
        "            dict_obj.value += \"/\"\n",
        "        else:\n",
        "            dict_obj.value += \"0\"\n",
        "            dict_obj.value += \"/\"\n",
        "        dict_obj.add(dict_obj.key, dict_obj.value)\n",
        "\n",
        "      else:\n",
        "        dict_obj.value += \"0\"\n",
        "        dict_obj.value += \"/\"\n",
        "        dict_obj.add(dict_obj.key, dict_obj.value)\n",
        "\n",
        "      i+=1\n",
        "\n",
        "    else:\n",
        "      dict_obj.value = \"0\"\n",
        "      dict_obj.value += \"/\"\n",
        "      dict_obj.add(dict_obj.key, dict_obj.value)\n",
        "      i += 1\n",
        "\n",
        "  for key in dict_obj:\n",
        "    print(key, \":\", dict_obj[key])"
      ],
      "metadata": {
        "id": "vlaChA7QxOjP"
      },
      "execution_count": null,
      "outputs": []
    },
    {
      "cell_type": "markdown",
      "source": [
        "# Simple Programs: while loops"
      ],
      "metadata": {
        "id": "B1jZBKFdF6eY"
      }
    },
    {
      "cell_type": "code",
      "source": [
        "def simpleProgram3():\n",
        "  dict_obj = keyValuePairs()\n",
        "  i = 0\n",
        "  num_samples = 10\n",
        "  while i < num_samples:\n",
        "    dict_obj.key = i #sample index\n",
        "    k = 0\n",
        "    while k < 50:  #change this while loop condition for more complex loop behaviors\n",
        "      if (k == 0) : #treat this branch as an initializer for the dictionary value\n",
        "          dict_obj.value = \"1\"\n",
        "          k += 1\n",
        "\n",
        "      dict_obj.value += \"1\" #keep count of branch taken/re-entering the while loop\n",
        "      k += 1\n",
        "\n",
        "    dict_obj.value += \"0\" #exit component\n",
        "    dict_obj.value += \"/\"\n",
        "    dict_obj.add(dict_obj.key, dict_obj.value)\n",
        "    i += 1  #increment to next sample\n",
        "\n",
        "  for key in dict_obj:\n",
        "    print(key, \":\", dict_obj[key])"
      ],
      "metadata": {
        "id": "uHKP8PlKIqaf"
      },
      "execution_count": 19,
      "outputs": []
    },
    {
      "cell_type": "code",
      "source": [
        "simpleProgram3()"
      ],
      "metadata": {
        "colab": {
          "base_uri": "https://localhost:8080/"
        },
        "id": "MIXjpG7czfAK",
        "outputId": "d30e0b50-d05a-4f4b-d25f-5242900f2339"
      },
      "execution_count": 21,
      "outputs": [
        {
          "output_type": "stream",
          "name": "stdout",
          "text": [
            "0 : 111111111111111111111111111111111111111111111111110/\n",
            "1 : 111111111111111111111111111111111111111111111111110/\n",
            "2 : 111111111111111111111111111111111111111111111111110/\n",
            "3 : 111111111111111111111111111111111111111111111111110/\n",
            "4 : 111111111111111111111111111111111111111111111111110/\n",
            "5 : 111111111111111111111111111111111111111111111111110/\n",
            "6 : 111111111111111111111111111111111111111111111111110/\n",
            "7 : 111111111111111111111111111111111111111111111111110/\n",
            "8 : 111111111111111111111111111111111111111111111111110/\n",
            "9 : 111111111111111111111111111111111111111111111111110/\n"
          ]
        }
      ]
    }
  ]
}